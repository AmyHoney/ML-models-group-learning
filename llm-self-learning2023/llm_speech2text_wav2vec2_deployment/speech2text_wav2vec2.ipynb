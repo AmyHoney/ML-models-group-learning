{
 "cells": [
  {
   "attachments": {},
   "cell_type": "markdown",
   "id": "378b6e3a-686d-40cb-b446-228ca082224c",
   "metadata": {},
   "source": [
    "# Check if dependencies installed"
   ]
  },
  {
   "cell_type": "code",
   "execution_count": 6,
   "id": "df0c69f1-3cbc-48d2-8274-80f269971299",
   "metadata": {},
   "outputs": [
    {
     "name": "stdout",
     "output_type": "stream",
     "text": [
      "\u001b[33mWARNING: The directory '/home/jovyan/.cache/pip' or its parent directory is not owned or is not writable by the current user. The cache has been disabled. Check the permissions and owner of that directory. If executing pip with sudo, you should use sudo's -H flag.\u001b[0m\u001b[33m\n",
      "\u001b[0mtransformers                 4.30.1\n"
     ]
    }
   ],
   "source": [
    "!pip list | grep transformers"
   ]
  },
  {
   "cell_type": "code",
   "execution_count": 2,
   "id": "6d8c036d-a0b1-466a-8e4a-84c4685a636f",
   "metadata": {},
   "outputs": [
    {
     "name": "stdout",
     "output_type": "stream",
     "text": [
      "\u001b[33mWARNING: The directory '/home/jovyan/.cache/pip' or its parent directory is not owned or is not writable by the current user. The cache has been disabled. Check the permissions and owner of that directory. If executing pip with sudo, you should use sudo's -H flag.\u001b[0m\u001b[33m\n",
      "\u001b[0mtorchaudio                   2.0.1+cu117\n"
     ]
    }
   ],
   "source": [
    "!pip list | grep torchaudio"
   ]
  },
  {
   "cell_type": "code",
   "execution_count": 3,
   "id": "28d83c9d-cdd1-4ddc-8aa8-c9c39c8bfcc6",
   "metadata": {},
   "outputs": [
    {
     "name": "stdout",
     "output_type": "stream",
     "text": [
      "\u001b[33mWARNING: The directory '/home/jovyan/.cache/pip' or its parent directory is not owned or is not writable by the current user. The cache has been disabled. Check the permissions and owner of that directory. If executing pip with sudo, you should use sudo's -H flag.\u001b[0m\u001b[33m\n",
      "\u001b[0mtorch-model-archiver         0.8.0\n"
     ]
    }
   ],
   "source": [
    "!pip list | grep torch-model-archiver "
   ]
  },
  {
   "cell_type": "code",
   "execution_count": 4,
   "id": "f1b6543d-31b0-44d0-994d-182714833e61",
   "metadata": {},
   "outputs": [
    {
     "name": "stdout",
     "output_type": "stream",
     "text": [
      "\u001b[33mWARNING: The directory '/home/jovyan/.cache/pip' or its parent directory is not owned or is not writable by the current user. The cache has been disabled. Check the permissions and owner of that directory. If executing pip with sudo, you should use sudo's -H flag.\u001b[0m\u001b[33m\n",
      "\u001b[0mtorchserve                   0.8.0\n"
     ]
    }
   ],
   "source": [
    "!pip list | grep torchserve"
   ]
  },
  {
   "attachments": {},
   "cell_type": "markdown",
   "id": "d50f69fc-acd5-4df4-9757-e77f1ac83c36",
   "metadata": {},
   "source": [
    "# Download wav2vec2 model\n",
    "Downloads model and creates folder `./model` with all necessary files"
   ]
  },
  {
   "cell_type": "code",
   "execution_count": 7,
   "id": "b37236d5-c829-45e3-b7d0-f4bf381ccbf6",
   "metadata": {},
   "outputs": [
    {
     "name": "stdout",
     "output_type": "stream",
     "text": [
      "Downloading (…)lve/main/config.json: 1.60kB [00:00, 2.29MB/s]\n",
      "Downloading model.safetensors: 100%|██████████| 378M/378M [00:03<00:00, 120MB/s]\n",
      "Some weights of Wav2Vec2ForCTC were not initialized from the model checkpoint at facebook/wav2vec2-base-960h and are newly initialized: ['wav2vec2.masked_spec_embed']\n",
      "You should probably TRAIN this model on a down-stream task to be able to use it for predictions and inference.\n",
      "Downloading (…)rocessor_config.json: 100%|█████| 159/159 [00:00<00:00, 9.99kB/s]\n",
      "Downloading (…)okenizer_config.json: 100%|█████| 163/163 [00:00<00:00, 81.8kB/s]\n",
      "Downloading (…)olve/main/vocab.json: 100%|██████| 291/291 [00:00<00:00, 138kB/s]\n",
      "Downloading (…)cial_tokens_map.json: 100%|███| 85.0/85.0 [00:00<00:00, 27.9kB/s]\n"
     ]
    }
   ],
   "source": [
    "!python3 ./download_wav2vec2.py"
   ]
  },
  {
   "attachments": {},
   "cell_type": "markdown",
   "id": "5e2bb698-0d33-4d35-a306-03fe190e4b83",
   "metadata": {},
   "source": [
    "# Creates .mar model archive\n",
    "\n",
    "Creates .mar archive using torch-model-archiver and moves it to folder `./model_store`\n",
    "\n",
    "That will take about 2~3 minutes"
   ]
  },
  {
   "cell_type": "code",
   "execution_count": 8,
   "id": "2e760f28-0dab-40ef-ad98-7669e7ba09d7",
   "metadata": {},
   "outputs": [],
   "source": [
    "!bash ./archive_model.sh"
   ]
  },
  {
   "attachments": {},
   "cell_type": "markdown",
   "id": "7704c6a3-26fb-4f9c-a256-dbcf50465583",
   "metadata": {},
   "source": [
    "# Start wav2vec2 model server\n",
    "\n",
    "**Suggestion: Run the below command in the terminal, then you can see the logs**\n",
    "\n",
    "That need to take about 5 minutes. You can't see the logs if you run the below command in the notebook. "
   ]
  },
  {
   "cell_type": "code",
   "execution_count": 2,
   "id": "afa8d897-42be-47a3-9efe-a842ec61f589",
   "metadata": {},
   "outputs": [],
   "source": [
    "!torchserve --start --model-store model_store --models Wav2Vec2=Wav2Vec2.mar --ncs"
   ]
  },
  {
   "attachments": {},
   "cell_type": "markdown",
   "id": "9f06295b-44e2-4dea-bdec-2f7b38c6c8ce",
   "metadata": {},
   "source": [
    "# Make prediction using the example file"
   ]
  },
  {
   "cell_type": "code",
   "execution_count": 4,
   "id": "2fe25866-fd01-4553-9b7d-9b13af39e86b",
   "metadata": {},
   "outputs": [
    {
     "name": "stdout",
     "output_type": "stream",
     "text": [
      "I HAD THAT CURIOSITY BESIDE ME AT THIS MOMENT"
     ]
    }
   ],
   "source": [
    "!curl -X POST http://127.0.0.1:8080/predictions/Wav2Vec2 --data-binary '@./sample.wav' -H \"Content-Type: audio/basic\""
   ]
  }
 ],
 "metadata": {
  "kernelspec": {
   "display_name": "Python 3 (ipykernel)",
   "language": "python",
   "name": "python3"
  },
  "language_info": {
   "codemirror_mode": {
    "name": "ipython",
    "version": 3
   },
   "file_extension": ".py",
   "mimetype": "text/x-python",
   "name": "python",
   "nbconvert_exporter": "python",
   "pygments_lexer": "ipython3",
   "version": "3.9.16"
  }
 },
 "nbformat": 4,
 "nbformat_minor": 5
}
